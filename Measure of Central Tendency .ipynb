{
 "cells": [
  {
   "cell_type": "code",
   "execution_count": 1,
   "id": "65e0e303",
   "metadata": {},
   "outputs": [],
   "source": [
    "df = read.csv(\"car.csv\")"
   ]
  },
  {
   "cell_type": "code",
   "execution_count": 2,
   "id": "5ba53dc7",
   "metadata": {},
   "outputs": [
    {
     "data": {
      "text/html": [
       "<table>\n",
       "<thead><tr><th scope=col>Speed</th><th scope=col>Car_Age</th><th scope=col>Experience</th><th scope=col>Risk</th></tr></thead>\n",
       "<tbody>\n",
       "\t<tr><td>200</td><td>15 </td><td> 5 </td><td>85 </td></tr>\n",
       "\t<tr><td> 90</td><td>17 </td><td>13 </td><td>20 </td></tr>\n",
       "\t<tr><td>165</td><td>12 </td><td> 4 </td><td>93 </td></tr>\n",
       "\t<tr><td>110</td><td>20 </td><td>NA </td><td>60 </td></tr>\n",
       "\t<tr><td>140</td><td> 5 </td><td> 3 </td><td>82 </td></tr>\n",
       "\t<tr><td>115</td><td>NA </td><td> 8 </td><td>10 </td></tr>\n",
       "\t<tr><td> 88</td><td> 5 </td><td> 3 </td><td>65 </td></tr>\n",
       "\t<tr><td> 65</td><td> 3 </td><td> 2 </td><td>43 </td></tr>\n",
       "\t<tr><td> 48</td><td>11 </td><td>NA </td><td>87 </td></tr>\n",
       "\t<tr><td> 71</td><td> 1 </td><td> 6 </td><td>34 </td></tr>\n",
       "\t<tr><td> 23</td><td> 4 </td><td> 5 </td><td>24 </td></tr>\n",
       "\t<tr><td> 76</td><td>NA </td><td> 4 </td><td>64 </td></tr>\n",
       "\t<tr><td> 35</td><td>13 </td><td> 7 </td><td>12 </td></tr>\n",
       "\t<tr><td> 83</td><td> 4 </td><td> 8 </td><td>87 </td></tr>\n",
       "\t<tr><td> 98</td><td> 2 </td><td> 4 </td><td>43 </td></tr>\n",
       "\t<tr><td> 32</td><td> 3 </td><td> 2 </td><td>21 </td></tr>\n",
       "</tbody>\n",
       "</table>\n"
      ],
      "text/latex": [
       "\\begin{tabular}{r|llll}\n",
       " Speed & Car\\_Age & Experience & Risk\\\\\n",
       "\\hline\n",
       "\t 200 & 15  &  5  & 85 \\\\\n",
       "\t  90 & 17  & 13  & 20 \\\\\n",
       "\t 165 & 12  &  4  & 93 \\\\\n",
       "\t 110 & 20  & NA  & 60 \\\\\n",
       "\t 140 &  5  &  3  & 82 \\\\\n",
       "\t 115 & NA  &  8  & 10 \\\\\n",
       "\t  88 &  5  &  3  & 65 \\\\\n",
       "\t  65 &  3  &  2  & 43 \\\\\n",
       "\t  48 & 11  & NA  & 87 \\\\\n",
       "\t  71 &  1  &  6  & 34 \\\\\n",
       "\t  23 &  4  &  5  & 24 \\\\\n",
       "\t  76 & NA  &  4  & 64 \\\\\n",
       "\t  35 & 13  &  7  & 12 \\\\\n",
       "\t  83 &  4  &  8  & 87 \\\\\n",
       "\t  98 &  2  &  4  & 43 \\\\\n",
       "\t  32 &  3  &  2  & 21 \\\\\n",
       "\\end{tabular}\n"
      ],
      "text/markdown": [
       "\n",
       "| Speed | Car_Age | Experience | Risk |\n",
       "|---|---|---|---|\n",
       "| 200 | 15  |  5  | 85  |\n",
       "|  90 | 17  | 13  | 20  |\n",
       "| 165 | 12  |  4  | 93  |\n",
       "| 110 | 20  | NA  | 60  |\n",
       "| 140 |  5  |  3  | 82  |\n",
       "| 115 | NA  |  8  | 10  |\n",
       "|  88 |  5  |  3  | 65  |\n",
       "|  65 |  3  |  2  | 43  |\n",
       "|  48 | 11  | NA  | 87  |\n",
       "|  71 |  1  |  6  | 34  |\n",
       "|  23 |  4  |  5  | 24  |\n",
       "|  76 | NA  |  4  | 64  |\n",
       "|  35 | 13  |  7  | 12  |\n",
       "|  83 |  4  |  8  | 87  |\n",
       "|  98 |  2  |  4  | 43  |\n",
       "|  32 |  3  |  2  | 21  |\n",
       "\n"
      ],
      "text/plain": [
       "   Speed Car_Age Experience Risk\n",
       "1  200   15       5         85  \n",
       "2   90   17      13         20  \n",
       "3  165   12       4         93  \n",
       "4  110   20      NA         60  \n",
       "5  140    5       3         82  \n",
       "6  115   NA       8         10  \n",
       "7   88    5       3         65  \n",
       "8   65    3       2         43  \n",
       "9   48   11      NA         87  \n",
       "10  71    1       6         34  \n",
       "11  23    4       5         24  \n",
       "12  76   NA       4         64  \n",
       "13  35   13       7         12  \n",
       "14  83    4       8         87  \n",
       "15  98    2       4         43  \n",
       "16  32    3       2         21  "
      ]
     },
     "metadata": {},
     "output_type": "display_data"
    }
   ],
   "source": [
    "df\n"
   ]
  },
  {
   "cell_type": "code",
   "execution_count": 3,
   "id": "eff7ec50",
   "metadata": {},
   "outputs": [],
   "source": [
    "x = c(17, 23, 53, 92, 45, NA, 23, 54, 11)"
   ]
  },
  {
   "cell_type": "code",
   "execution_count": 4,
   "id": "b9915c73",
   "metadata": {},
   "outputs": [
    {
     "data": {
      "text/html": [
       "<ol class=list-inline>\n",
       "\t<li>17</li>\n",
       "\t<li>23</li>\n",
       "\t<li>53</li>\n",
       "\t<li>92</li>\n",
       "\t<li>45</li>\n",
       "\t<li>&lt;NA&gt;</li>\n",
       "\t<li>23</li>\n",
       "\t<li>54</li>\n",
       "\t<li>11</li>\n",
       "</ol>\n"
      ],
      "text/latex": [
       "\\begin{enumerate*}\n",
       "\\item 17\n",
       "\\item 23\n",
       "\\item 53\n",
       "\\item 92\n",
       "\\item 45\n",
       "\\item <NA>\n",
       "\\item 23\n",
       "\\item 54\n",
       "\\item 11\n",
       "\\end{enumerate*}\n"
      ],
      "text/markdown": [
       "1. 17\n",
       "2. 23\n",
       "3. 53\n",
       "4. 92\n",
       "5. 45\n",
       "6. &lt;NA&gt;\n",
       "7. 23\n",
       "8. 54\n",
       "9. 11\n",
       "\n",
       "\n"
      ],
      "text/plain": [
       "[1] 17 23 53 92 45 NA 23 54 11"
      ]
     },
     "metadata": {},
     "output_type": "display_data"
    }
   ],
   "source": [
    "x"
   ]
  },
  {
   "cell_type": "markdown",
   "id": "4b1bf28b",
   "metadata": {},
   "source": [
    "# Mean\n"
   ]
  },
  {
   "cell_type": "code",
   "execution_count": 5,
   "id": "b5d52587",
   "metadata": {},
   "outputs": [],
   "source": [
    "Mean1 = mean(x, na.rm = TRUE)"
   ]
  },
  {
   "cell_type": "code",
   "execution_count": 6,
   "id": "453a9b37",
   "metadata": {},
   "outputs": [
    {
     "data": {
      "text/html": [
       "39.75"
      ],
      "text/latex": [
       "39.75"
      ],
      "text/markdown": [
       "39.75"
      ],
      "text/plain": [
       "[1] 39.75"
      ]
     },
     "metadata": {},
     "output_type": "display_data"
    }
   ],
   "source": [
    "Mean1"
   ]
  },
  {
   "cell_type": "code",
   "execution_count": 7,
   "id": "3e46dc81",
   "metadata": {},
   "outputs": [],
   "source": [
    "Mean2 = mean(df$Speed)"
   ]
  },
  {
   "cell_type": "code",
   "execution_count": 8,
   "id": "ec942e18",
   "metadata": {},
   "outputs": [
    {
     "data": {
      "text/html": [
       "89.9375"
      ],
      "text/latex": [
       "89.9375"
      ],
      "text/markdown": [
       "89.9375"
      ],
      "text/plain": [
       "[1] 89.9375"
      ]
     },
     "metadata": {},
     "output_type": "display_data"
    }
   ],
   "source": [
    "Mean2"
   ]
  },
  {
   "cell_type": "code",
   "execution_count": 14,
   "id": "cf34f340",
   "metadata": {},
   "outputs": [],
   "source": [
    "Mean3 = mean(df$Experience, na.rm =TRUE)"
   ]
  },
  {
   "cell_type": "code",
   "execution_count": 15,
   "id": "873443ec",
   "metadata": {},
   "outputs": [
    {
     "data": {
      "text/html": [
       "5.28571428571429"
      ],
      "text/latex": [
       "5.28571428571429"
      ],
      "text/markdown": [
       "5.28571428571429"
      ],
      "text/plain": [
       "[1] 5.285714"
      ]
     },
     "metadata": {},
     "output_type": "display_data"
    }
   ],
   "source": [
    "Mean3"
   ]
  },
  {
   "cell_type": "markdown",
   "id": "698dc3c9",
   "metadata": {},
   "source": [
    "# Median"
   ]
  },
  {
   "cell_type": "code",
   "execution_count": 18,
   "id": "e5d4f34c",
   "metadata": {},
   "outputs": [],
   "source": [
    "Median1 = median(x, na.rm = TRUE)"
   ]
  },
  {
   "cell_type": "code",
   "execution_count": 19,
   "id": "05d79539",
   "metadata": {},
   "outputs": [
    {
     "data": {
      "text/html": [
       "34"
      ],
      "text/latex": [
       "34"
      ],
      "text/markdown": [
       "34"
      ],
      "text/plain": [
       "[1] 34"
      ]
     },
     "metadata": {},
     "output_type": "display_data"
    }
   ],
   "source": [
    "Median1"
   ]
  },
  {
   "cell_type": "code",
   "execution_count": 20,
   "id": "7f9eda00",
   "metadata": {},
   "outputs": [
    {
     "data": {
      "text/html": [
       "<ol class=list-inline>\n",
       "\t<li>11</li>\n",
       "\t<li>17</li>\n",
       "\t<li>23</li>\n",
       "\t<li>23</li>\n",
       "\t<li>45</li>\n",
       "\t<li>53</li>\n",
       "\t<li>54</li>\n",
       "\t<li>92</li>\n",
       "</ol>\n"
      ],
      "text/latex": [
       "\\begin{enumerate*}\n",
       "\\item 11\n",
       "\\item 17\n",
       "\\item 23\n",
       "\\item 23\n",
       "\\item 45\n",
       "\\item 53\n",
       "\\item 54\n",
       "\\item 92\n",
       "\\end{enumerate*}\n"
      ],
      "text/markdown": [
       "1. 11\n",
       "2. 17\n",
       "3. 23\n",
       "4. 23\n",
       "5. 45\n",
       "6. 53\n",
       "7. 54\n",
       "8. 92\n",
       "\n",
       "\n"
      ],
      "text/plain": [
       "[1] 11 17 23 23 45 53 54 92"
      ]
     },
     "metadata": {},
     "output_type": "display_data"
    }
   ],
   "source": [
    "sort(x)"
   ]
  },
  {
   "cell_type": "code",
   "execution_count": 21,
   "id": "64171a56",
   "metadata": {},
   "outputs": [],
   "source": [
    "Median2 = median(df$Speed, na.rm = TRUE)"
   ]
  },
  {
   "cell_type": "code",
   "execution_count": 22,
   "id": "0134ba8b",
   "metadata": {},
   "outputs": [
    {
     "data": {
      "text/html": [
       "85.5"
      ],
      "text/latex": [
       "85.5"
      ],
      "text/markdown": [
       "85.5"
      ],
      "text/plain": [
       "[1] 85.5"
      ]
     },
     "metadata": {},
     "output_type": "display_data"
    }
   ],
   "source": [
    "Median2"
   ]
  },
  {
   "cell_type": "markdown",
   "id": "32da2d96",
   "metadata": {},
   "source": [
    "# Mode\n"
   ]
  },
  {
   "cell_type": "code",
   "execution_count": 33,
   "id": "b4e13f2d",
   "metadata": {},
   "outputs": [
    {
     "data": {
      "text/html": [
       "<ol class=list-inline>\n",
       "\t<li>'11'</li>\n",
       "\t<li>'17'</li>\n",
       "\t<li>'23'</li>\n",
       "\t<li>'45'</li>\n",
       "\t<li>'53'</li>\n",
       "\t<li>'54'</li>\n",
       "\t<li>'92'</li>\n",
       "</ol>\n"
      ],
      "text/latex": [
       "\\begin{enumerate*}\n",
       "\\item '11'\n",
       "\\item '17'\n",
       "\\item '23'\n",
       "\\item '45'\n",
       "\\item '53'\n",
       "\\item '54'\n",
       "\\item '92'\n",
       "\\end{enumerate*}\n"
      ],
      "text/markdown": [
       "1. '11'\n",
       "2. '17'\n",
       "3. '23'\n",
       "4. '45'\n",
       "5. '53'\n",
       "6. '54'\n",
       "7. '92'\n",
       "\n",
       "\n"
      ],
      "text/plain": [
       "[1] \"11\" \"17\" \"23\" \"45\" \"53\" \"54\" \"92\""
      ]
     },
     "metadata": {},
     "output_type": "display_data"
    }
   ],
   "source": [
    "names(table(x))"
   ]
  },
  {
   "cell_type": "code",
   "execution_count": 35,
   "id": "adbe9f5c",
   "metadata": {},
   "outputs": [
    {
     "data": {
      "text/html": [
       "'23'"
      ],
      "text/latex": [
       "'23'"
      ],
      "text/markdown": [
       "'23'"
      ],
      "text/plain": [
       "[1] \"23\""
      ]
     },
     "metadata": {},
     "output_type": "display_data"
    }
   ],
   "source": [
    "names(table(x)) [table(x) == max(table(x))]"
   ]
  },
  {
   "cell_type": "code",
   "execution_count": 37,
   "id": "27e0fe14",
   "metadata": {},
   "outputs": [
    {
     "data": {
      "text/html": [
       "<ol class=list-inline>\n",
       "\t<li>'23'</li>\n",
       "\t<li>'32'</li>\n",
       "\t<li>'35'</li>\n",
       "\t<li>'48'</li>\n",
       "\t<li>'65'</li>\n",
       "\t<li>'71'</li>\n",
       "\t<li>'76'</li>\n",
       "\t<li>'83'</li>\n",
       "\t<li>'88'</li>\n",
       "\t<li>'90'</li>\n",
       "\t<li>'98'</li>\n",
       "\t<li>'110'</li>\n",
       "\t<li>'115'</li>\n",
       "\t<li>'140'</li>\n",
       "\t<li>'165'</li>\n",
       "\t<li>'200'</li>\n",
       "</ol>\n"
      ],
      "text/latex": [
       "\\begin{enumerate*}\n",
       "\\item '23'\n",
       "\\item '32'\n",
       "\\item '35'\n",
       "\\item '48'\n",
       "\\item '65'\n",
       "\\item '71'\n",
       "\\item '76'\n",
       "\\item '83'\n",
       "\\item '88'\n",
       "\\item '90'\n",
       "\\item '98'\n",
       "\\item '110'\n",
       "\\item '115'\n",
       "\\item '140'\n",
       "\\item '165'\n",
       "\\item '200'\n",
       "\\end{enumerate*}\n"
      ],
      "text/markdown": [
       "1. '23'\n",
       "2. '32'\n",
       "3. '35'\n",
       "4. '48'\n",
       "5. '65'\n",
       "6. '71'\n",
       "7. '76'\n",
       "8. '83'\n",
       "9. '88'\n",
       "10. '90'\n",
       "11. '98'\n",
       "12. '110'\n",
       "13. '115'\n",
       "14. '140'\n",
       "15. '165'\n",
       "16. '200'\n",
       "\n",
       "\n"
      ],
      "text/plain": [
       " [1] \"23\"  \"32\"  \"35\"  \"48\"  \"65\"  \"71\"  \"76\"  \"83\"  \"88\"  \"90\"  \"98\"  \"110\"\n",
       "[13] \"115\" \"140\" \"165\" \"200\""
      ]
     },
     "metadata": {},
     "output_type": "display_data"
    }
   ],
   "source": [
    "names(table(df$Speed))"
   ]
  },
  {
   "cell_type": "code",
   "execution_count": 39,
   "id": "a9c9de65",
   "metadata": {},
   "outputs": [
    {
     "data": {
      "text/html": [
       "<ol class=list-inline>\n",
       "\t<li>'43'</li>\n",
       "\t<li>'87'</li>\n",
       "</ol>\n"
      ],
      "text/latex": [
       "\\begin{enumerate*}\n",
       "\\item '43'\n",
       "\\item '87'\n",
       "\\end{enumerate*}\n"
      ],
      "text/markdown": [
       "1. '43'\n",
       "2. '87'\n",
       "\n",
       "\n"
      ],
      "text/plain": [
       "[1] \"43\" \"87\""
      ]
     },
     "metadata": {},
     "output_type": "display_data"
    }
   ],
   "source": [
    "names(table(df$Risk)) [table(df$Risk) == max(table(df$Risk))]"
   ]
  },
  {
   "cell_type": "code",
   "execution_count": null,
   "id": "c56af866",
   "metadata": {},
   "outputs": [],
   "source": []
  }
 ],
 "metadata": {
  "kernelspec": {
   "display_name": "R",
   "language": "R",
   "name": "ir"
  },
  "language_info": {
   "codemirror_mode": "r",
   "file_extension": ".r",
   "mimetype": "text/x-r-source",
   "name": "R",
   "pygments_lexer": "r",
   "version": "3.6.1"
  }
 },
 "nbformat": 4,
 "nbformat_minor": 5
}
