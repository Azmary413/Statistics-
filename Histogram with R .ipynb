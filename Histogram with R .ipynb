{
 "cells": [
  {
   "cell_type": "code",
   "execution_count": 8,
   "id": "208d03a0",
   "metadata": {},
   "outputs": [],
   "source": [
    "df = read.csv(\"car.csv\")"
   ]
  },
  {
   "cell_type": "code",
   "execution_count": 3,
   "id": "a10a1b55",
   "metadata": {},
   "outputs": [
    {
     "data": {
      "text/html": [
       "<table>\n",
       "<thead><tr><th scope=col>Speed</th><th scope=col>Car_Age</th><th scope=col>Experience</th><th scope=col>Risk</th></tr></thead>\n",
       "<tbody>\n",
       "\t<tr><td>200</td><td>15 </td><td> 5 </td><td>85 </td></tr>\n",
       "\t<tr><td> 90</td><td>17 </td><td>13 </td><td>20 </td></tr>\n",
       "\t<tr><td>165</td><td>12 </td><td> 4 </td><td>93 </td></tr>\n",
       "\t<tr><td>110</td><td>20 </td><td>NA </td><td>60 </td></tr>\n",
       "\t<tr><td>140</td><td> 5 </td><td> 3 </td><td>82 </td></tr>\n",
       "\t<tr><td>115</td><td> 1 </td><td> 8 </td><td>10 </td></tr>\n",
       "\t<tr><td> 98</td><td> 2 </td><td> 3 </td><td>10 </td></tr>\n",
       "\t<tr><td> 59</td><td> 1 </td><td> 2 </td><td>10 </td></tr>\n",
       "\t<tr><td> 85</td><td> 6 </td><td> 6 </td><td>80 </td></tr>\n",
       "\t<tr><td> 93</td><td> 7 </td><td> 8 </td><td>10 </td></tr>\n",
       "\t<tr><td>115</td><td> 5 </td><td> 5 </td><td>43 </td></tr>\n",
       "\t<tr><td>116</td><td> 8 </td><td> 4 </td><td>23 </td></tr>\n",
       "\t<tr><td>114</td><td> 9 </td><td> 3 </td><td>67 </td></tr>\n",
       "\t<tr><td>119</td><td> 7 </td><td>16 </td><td>54 </td></tr>\n",
       "\t<tr><td>115</td><td> 6 </td><td> 3 </td><td>65 </td></tr>\n",
       "\t<tr><td>113</td><td> 2 </td><td> 5 </td><td>73 </td></tr>\n",
       "\t<tr><td> 99</td><td> 3 </td><td> 3 </td><td>97 </td></tr>\n",
       "\t<tr><td> 74</td><td> 5 </td><td> 2 </td><td>84 </td></tr>\n",
       "\t<tr><td> 34</td><td> 6 </td><td> 8 </td><td>34 </td></tr>\n",
       "\t<tr><td> 98</td><td> 7 </td><td> 4 </td><td>10 </td></tr>\n",
       "</tbody>\n",
       "</table>\n"
      ],
      "text/latex": [
       "\\begin{tabular}{r|llll}\n",
       " Speed & Car\\_Age & Experience & Risk\\\\\n",
       "\\hline\n",
       "\t 200 & 15  &  5  & 85 \\\\\n",
       "\t  90 & 17  & 13  & 20 \\\\\n",
       "\t 165 & 12  &  4  & 93 \\\\\n",
       "\t 110 & 20  & NA  & 60 \\\\\n",
       "\t 140 &  5  &  3  & 82 \\\\\n",
       "\t 115 &  1  &  8  & 10 \\\\\n",
       "\t  98 &  2  &  3  & 10 \\\\\n",
       "\t  59 &  1  &  2  & 10 \\\\\n",
       "\t  85 &  6  &  6  & 80 \\\\\n",
       "\t  93 &  7  &  8  & 10 \\\\\n",
       "\t 115 &  5  &  5  & 43 \\\\\n",
       "\t 116 &  8  &  4  & 23 \\\\\n",
       "\t 114 &  9  &  3  & 67 \\\\\n",
       "\t 119 &  7  & 16  & 54 \\\\\n",
       "\t 115 &  6  &  3  & 65 \\\\\n",
       "\t 113 &  2  &  5  & 73 \\\\\n",
       "\t  99 &  3  &  3  & 97 \\\\\n",
       "\t  74 &  5  &  2  & 84 \\\\\n",
       "\t  34 &  6  &  8  & 34 \\\\\n",
       "\t  98 &  7  &  4  & 10 \\\\\n",
       "\\end{tabular}\n"
      ],
      "text/markdown": [
       "\n",
       "| Speed | Car_Age | Experience | Risk |\n",
       "|---|---|---|---|\n",
       "| 200 | 15  |  5  | 85  |\n",
       "|  90 | 17  | 13  | 20  |\n",
       "| 165 | 12  |  4  | 93  |\n",
       "| 110 | 20  | NA  | 60  |\n",
       "| 140 |  5  |  3  | 82  |\n",
       "| 115 |  1  |  8  | 10  |\n",
       "|  98 |  2  |  3  | 10  |\n",
       "|  59 |  1  |  2  | 10  |\n",
       "|  85 |  6  |  6  | 80  |\n",
       "|  93 |  7  |  8  | 10  |\n",
       "| 115 |  5  |  5  | 43  |\n",
       "| 116 |  8  |  4  | 23  |\n",
       "| 114 |  9  |  3  | 67  |\n",
       "| 119 |  7  | 16  | 54  |\n",
       "| 115 |  6  |  3  | 65  |\n",
       "| 113 |  2  |  5  | 73  |\n",
       "|  99 |  3  |  3  | 97  |\n",
       "|  74 |  5  |  2  | 84  |\n",
       "|  34 |  6  |  8  | 34  |\n",
       "|  98 |  7  |  4  | 10  |\n",
       "\n"
      ],
      "text/plain": [
       "   Speed Car_Age Experience Risk\n",
       "1  200   15       5         85  \n",
       "2   90   17      13         20  \n",
       "3  165   12       4         93  \n",
       "4  110   20      NA         60  \n",
       "5  140    5       3         82  \n",
       "6  115    1       8         10  \n",
       "7   98    2       3         10  \n",
       "8   59    1       2         10  \n",
       "9   85    6       6         80  \n",
       "10  93    7       8         10  \n",
       "11 115    5       5         43  \n",
       "12 116    8       4         23  \n",
       "13 114    9       3         67  \n",
       "14 119    7      16         54  \n",
       "15 115    6       3         65  \n",
       "16 113    2       5         73  \n",
       "17  99    3       3         97  \n",
       "18  74    5       2         84  \n",
       "19  34    6       8         34  \n",
       "20  98    7       4         10  "
      ]
     },
     "metadata": {},
     "output_type": "display_data"
    }
   ],
   "source": [
    "df"
   ]
  },
  {
   "cell_type": "code",
   "execution_count": 4,
   "id": "5b1ac199",
   "metadata": {},
   "outputs": [],
   "source": [
    "help(hist)"
   ]
  },
  {
   "cell_type": "code",
   "execution_count": 10,
   "id": "a175dada",
   "metadata": {},
   "outputs": [
    {
     "data": {
      "image/png": "[encoded data removed]",
      "text/plain": [
       "Plot with title \"Histogram of df$Risk\""
      ]
     },
     "metadata": {},
     "output_type": "display_data"
    }
   ],
   "source": [
    "hist(df$Risk)"
   ]
  },
  {
   "cell_type": "code",
   "execution_count": 24,
   "id": "6b335926",
   "metadata": {},
   "outputs": [
    {
     "data": {
      "image/png": "[encoded data removed]",
      "text/plain": [
       "Plot with title \"Experience\""
      ]
     },
     "metadata": {},
     "output_type": "display_data"
    }
   ],
   "source": [
    "hist(df$Experience, freq=T, ylim=c(0,10), xlim=c(0,10), col=\"orange\", xlab=\"Risk of Cars\", ylab=\"Frequency of Cars\", main= \"Experience\")"
   ]
  },
  {
   "cell_type": "code",
   "execution_count": null,
   "id": "2744bb86",
   "metadata": {},
   "outputs": [],
   "source": []
  }
 ],
 "metadata": {
  "kernelspec": {
   "display_name": "R",
   "language": "R",
   "name": "ir"
  },
  "language_info": {
   "codemirror_mode": "r",
   "file_extension": ".r",
   "mimetype": "text/x-r-source",
   "name": "R",
   "pygments_lexer": "r",
   "version": "3.6.1"
  }
 },
 "nbformat": 4,
 "nbformat_minor": 5
}
